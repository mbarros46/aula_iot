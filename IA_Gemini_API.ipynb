{
 "nbformat": 4,
 "nbformat_minor": 0,
 "metadata": {
  "colab": {
   "provenance": []
  },
  "kernelspec": {
   "name": "python3",
   "display_name": "Python 3"
  },
  "language_info": {
   "name": "python"
  },
  "title": "IA_Gemini_API"
 },
 "cells": [
  {
   "cell_type": "markdown",
   "metadata": {},
   "source": [
    "# IA_Gemini_API\n",
    "\n",
    "Aluno: mig\n",
    "Descrição: Versão refatorada para estudo — nomes padronizados e comentários ajustados.\n",
    "\n"
   ]
  },
  {
   "cell_type": "code",
   "execution_count": 7,
   "metadata": {
    "colab": {
     "base_uri": "https://localhost:8080/"
    },
    "collapsed": true,
    "id": "clmK1ADdmN4q",
    "outputId": "85d8d07d-3c87-4d9f-bcf9-c576e927dbe2"
   },
   "outputs": [
    {
     "output_type": "stream",
     "name": "stdout",
     "text": [
      "Requirement already satisfied: agno in /usr/local/lib/python3.12/dist-packages (2.2.1)\n",
      "Requirement already satisfied: openai in /usr/local/lib/python3.12/dist-packages (1.109.1)\n",
      "Requirement already satisfied: docstring-parser in /usr/local/lib/python3.12/dist-packages (from agno) (0.17.0)\n",
      "Requirement already satisfied: gitpython in /usr/local/lib/python3.12/dist-packages (from agno) (3.1.45)\n",
      "Requirement already satisfied: h11>=0.16.0 in /usr/local/lib/python3.12/dist-packages (from agno) (0.16.0)\n",
      "Requirement already satisfied: httpx in /usr/local/lib/python3.12/dist-packages (from agno) (0.28.1)\n",
      "Requirement already satisfied: packaging in /usr/local/lib/python3.12/dist-packages (from agno) (25.0)\n",
      "Requirement already satisfied: pydantic-settings in /usr/local/lib/python3.12/dist-packages (from agno) (2.11.0)\n",
      "Requirement already satisfied: pydantic in /usr/local/lib/python3.12/dist-packages (from agno) (2.11.10)\n",
      "Requirement already satisfied: python-dotenv in /usr/local/lib/python3.12/dist-packages (from agno) (1.1.1)\n",
      "Requirement already satisfied: python-multipart in /usr/local/lib/python3.12/dist-packages (from agno) (0.0.20)\n",
      "Requirement already satisfied: pyyaml in /usr/local/lib/python3.12/dist-packages (from agno) (6.0.3)\n",
      "Requirement already satisfied: rich in /usr/local/lib/python3.12/dist-packages (from agno) (13.9.4)\n",
      "Requirement already satisfied: typer in /usr/local/lib/python3.12/dist-packages (from agno) (0.20.0)\n",
      "Requirement already satisfied: typing-extensions in /usr/local/lib/python3.12/dist-packages (from agno) (4.15.0)\n",
      "Requirement already satisfied: anyio<5,>=3.5.0 in /usr/local/lib/python3.12/dist-packages (from openai) (4.11.0)\n",
      "Requirement already satisfied: distro<2,>=1.7.0 in /usr/local/lib/python3.12/dist-packages (from openai) (1.9.0)\n",
      "Requirement already satisfied: jiter<1,>=0.4.0 in /usr/local/lib/python3.12/dist-packages (from openai) (0.11.1)\n",
      "Requirement already satisfied: sniffio in /usr/local/lib/python3.12/dist-packages (from openai) (1.3.1)\n",
      "Requirement already satisfied: tqdm>4 in /usr/local/lib/python3.12/dist-packages (from openai) (4.67.1)\n",
      "Requirement already satisfied: idna>=2.8 in /usr/local/lib/python3.12/dist-packages (from anyio<5,>=3.5.0->openai) (3.11)\n",
      "Requirement already satisfied: certifi in /usr/local/lib/python3.12/dist-packages (from httpx->agno) (2025.10.5)\n",
      "Requirement already satisfied: httpcore==1.* in /usr/local/lib/python3.12/dist-packages (from httpx->agno) (1.0.9)\n",
      "Requirement already satisfied: annotated-types>=0.6.0 in /usr/local/lib/python3.12/dist-packages (from pydantic->agno) (0.7.0)\n",
      "Requirement already satisfied: pydantic-core==2.33.2 in /usr/local/lib/python3.12/dist-packages (from pydantic->agno) (2.33.2)\n",
      "Requirement already satisfied: typing-inspection>=0.4.0 in /usr/local/lib/python3.12/dist-packages (from pydantic->agno) (0.4.2)\n",
      "Requirement already satisfied: gitdb<5,>=4.0.1 in /usr/local/lib/python3.12/dist-packages (from gitpython->agno) (4.0.12)\n",
      "Requirement already satisfied: markdown-it-py>=2.2.0 in /usr/local/lib/python3.12/dist-packages (from rich->agno) (4.0.0)\n",
      "Requirement already satisfied: pygments<3.0.0,>=2.13.0 in /usr/local/lib/python3.12/dist-packages (from rich->agno) (2.19.2)\n",
      "Requirement already satisfied: click>=8.0.0 in /usr/local/lib/python3.12/dist-packages (from typer->agno) (8.3.0)\n",
      "Requirement already satisfied: shellingham>=1.3.0 in /usr/local/lib/python3.12/dist-packages (from typer->agno) (1.5.4)\n",
      "Requirement already satisfied: smmap<6,>=3.0.1 in /usr/local/lib/python3.12/dist-packages (from gitdb<5,>=4.0.1->gitpython->agno) (5.0.2)\n",
      "Requirement already satisfied: mdurl~=0.1 in /usr/local/lib/python3.12/dist-packages (from markdown-it-py>=2.2.0->rich->agno) (0.1.2)\n"
     ]
    }
   ],
   "source": [
    "!pip install agno openai"
   ]
  },
  {
   "cell_type": "code",
   "source": [
    "import os\n",
    "from typing import Dict\n",
    "import json\n",
    "from google.colab import userdata\n",
    "\n",
    "os.environ[\"GOOGLE_API_KEY\"] = userdata.get('GOOGLE_API_KEY')\n",
    "\n",
    "print(\"Ambiente Configurado!\")"
   ],
   "metadata": {
    "colab": {
     "base_uri": "https://localhost:8080/"
    },
    "id": "w-O6GcE5n1zd",
    "outputId": "cbeb2633-e9e5-4757-d9f3-dc52abdabfeb"
   },
   "execution_count": 8,
   "outputs": [
    {
     "output_type": "stream",
     "name": "stdout",
     "text": [
      "Ambiente Configurado!\n"
     ]
    }
   ]
  },
  {
   "cell_type": "code",
   "source": [
    "material = \"\"\"\n",
    "GIT - Controle de versão\n",
    "\n",
    "Git é um sistema de controle de versão distribuido, que permite registrar mudanças no código ao longo do tempo\n",
    "\n",
    "**Por que usar Git?**\n",
    "- Histórico completo de mudanças\n",
    "- Trabalho em equipe sem conflitos\n",
    "- Experimente código sem medo (sempre pode voltar)\n",
    "- Backup automático do trabalho\n",
    "\"\"\""
   ],
   "metadata": {
    "id": "vx3i8DaCpSrs"
   },
   "execution_count": 9,
   "outputs": []
  },
  {
   "cell_type": "code",
   "source": [
    "from agno.agent import Agent\n",
    "from agno.models.google import Gemini\n",
    "from agno.tools import tool\n",
    "\n",
    "def criar_agente_coordenador(material: str) -> Agent:\n",
    "  return Agent(\n",
    "      name=\"Coordenador Pedagógico\",\n",
    "      model=Gemini(id=\"gemini-2.5-flash\"),\n",
    "      instructions=[\n",
    "          f\"Material: {material}\",\n",
    "          \"Você é um tutor conversacional.\",\n",
    "          \"Faça perguntas sobre o material.\",\n",
    "          \"Seja encorajador e amigável\"\n",
    "      ]\n",
    "  )\n",
    "\n",
    "def criar_agente_avaliador(material: str) -> Agent:\n",
    "  return Agent(\n",
    "      name=\"Avaliador Rigoroso\",\n",
    "      model=Gemini(id=\"gemini-2.5-flash\"),\n",
    "      instructions=[\n",
    "          f\"Material: {material}\",\n",
    "          \"Avalie respostas: Bom, Parcial ou Ruim.\",\n",
    "          \"Seja justo mas rigoroso.\"\n",
    "      ]\n",
    "  )\n",
    "\n",
    "coordenador = criar_agente_coordenador(material)\n",
    "avaliador = criar_agente_avaliador(material)\n",
    "\n",
    "print(\"Agentes carregados!\")\n",
    "print(f\"🦧 Coordenador: {coordenador.name}\")\n",
    "print(f\"🐘 Avaliador: {avaliador.name}\")"
   ],
   "metadata": {
    "colab": {
     "base_uri": "https://localhost:8080/"
    },
    "id": "GgPDH1mvqKEL",
    "outputId": "1a1a034e-6fe9-4d80-8510-9d559e6eafaf"
   },
   "execution_count": 12,
   "outputs": [
    {
     "output_type": "stream",
     "name": "stdout",
     "text": [
      "Agentes carregados!\n",
      "🦧 Coordenador: Coordenador Pedagógico\n",
      "🐘 Avaliador: Avaliador Rigoroso\n"
     ]
    }
   ]
  },
  {
   "cell_type": "code",
   "source": [
    "_estado = {\n",
    "    \"agente_avaliador\": avaliador,\n",
    "    \"historico\": [],\n",
    "    \"tracking\": {},\n",
    "    \"num_perguntas\": 0,\n",
    "    \"max_perguntas\": 6\n",
    "}\n",
    "\n",
    "def registrar_feedback(feedback: str):\n",
    "  \"\"\"\n",
    "  Registra feedback do Aluno: mig histórico.\n",
    "  \"\"\"\n",
    "\n",
    "  _estado[\"historico\"].append({\n",
    "      \"tipo\": \"feedback\",\n",
    "      \"conteudo\": feedback\n",
    "  })\n",
    "\n",
    "  return \"Feedback exibindo ao Aluno: mig\""
   ],
   "metadata": {
    "id": "_b5V4grwqsC_"
   },
   "execution_count": 16,
   "outputs": []
  },
  {
   "cell_type": "code",
   "source": [],
   "metadata": {
    "id": "WS7E3VRdttlM"
   },
   "execution_count": null,
   "outputs": []
  }
 ]
}